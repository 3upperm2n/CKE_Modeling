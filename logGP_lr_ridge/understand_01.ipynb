{
 "cells": [
  {
   "cell_type": "code",
   "execution_count": 2,
   "metadata": {
    "collapsed": true,
    "deletable": true,
    "editable": true
   },
   "outputs": [],
   "source": [
    "import pandas as pd\n",
    "from numpy import *"
   ]
  },
  {
   "cell_type": "code",
   "execution_count": 3,
   "metadata": {
    "collapsed": false,
    "deletable": true,
    "editable": true
   },
   "outputs": [],
   "source": [
    "cols_name=[\"N\", \"us\"]\n",
    "df_h2d = pd.read_csv('1stream_1_1M.csv', names=cols_name)\n",
    "#df_h2d"
   ]
  },
  {
   "cell_type": "code",
   "execution_count": 4,
   "metadata": {
    "collapsed": false,
    "deletable": true,
    "editable": true
   },
   "outputs": [
    {
     "name": "stdout",
     "output_type": "stream",
     "text": [
      "43002\n"
     ]
    }
   ],
   "source": [
    "records = df_h2d.shape[0]\n",
    "print records"
   ]
  },
  {
   "cell_type": "code",
   "execution_count": 32,
   "metadata": {
    "collapsed": false,
    "deletable": true,
    "editable": true
   },
   "outputs": [
    {
     "name": "stdout",
     "output_type": "stream",
     "text": [
      "4.128\n",
      "499\n",
      "0.00827254509018\n"
     ]
    }
   ],
   "source": [
    "# read every 1 floats\n",
    "tot = 0\n",
    "count = 0 \n",
    "for i in xrange(1,500):\n",
    "    cur_ind = i * 1\n",
    "    if cur_ind < records:\n",
    "        pre_ind = cur_ind - 1\n",
    "    \n",
    "        dif = abs(df_h2d[\"us\"].iloc[cur_ind] - df_h2d[\"us\"].iloc[pre_ind])\n",
    "        tot = tot + dif\n",
    "        count = count + 1\n",
    "\n",
    "avg = tot / (float)(count)\n",
    "print tot\n",
    "print count\n",
    "print avg"
   ]
  },
  {
   "cell_type": "code",
   "execution_count": 33,
   "metadata": {
    "collapsed": false,
    "deletable": true,
    "editable": true
   },
   "outputs": [
    {
     "name": "stdout",
     "output_type": "stream",
     "text": [
      "3.856\n",
      "499\n",
      "0.00772745490982\n"
     ]
    }
   ],
   "source": [
    "# read every 2 floats\n",
    "tot = 0\n",
    "count = 0 \n",
    "for i in xrange(1,500):\n",
    "    cur_ind = i * 2\n",
    "    if cur_ind < records:\n",
    "        pre_ind = cur_ind - 2\n",
    "    \n",
    "        dif = abs(df_h2d[\"us\"].iloc[cur_ind] - df_h2d[\"us\"].iloc[pre_ind])\n",
    "        tot = tot + dif\n",
    "        count = count + 1\n",
    "\n",
    "avg = tot / (float)(count)\n",
    "print tot\n",
    "print count\n",
    "print avg"
   ]
  },
  {
   "cell_type": "code",
   "execution_count": 34,
   "metadata": {
    "collapsed": false,
    "deletable": true,
    "editable": true
   },
   "outputs": [
    {
     "name": "stdout",
     "output_type": "stream",
     "text": [
      "4.368\n",
      "499\n",
      "0.00875350701403\n"
     ]
    }
   ],
   "source": [
    "# read every 4 floats\n",
    "tot = 0\n",
    "count = 0 \n",
    "for i in xrange(1,500):\n",
    "    cur_ind = i * 4\n",
    "    if cur_ind < records:\n",
    "        pre_ind = cur_ind - 4\n",
    "    \n",
    "        dif = abs(df_h2d[\"us\"].iloc[cur_ind] - df_h2d[\"us\"].iloc[pre_ind])\n",
    "        tot = tot + dif\n",
    "        count = count + 1\n",
    "\n",
    "avg = tot / (float)(count)\n",
    "print tot\n",
    "print count\n",
    "print avg"
   ]
  },
  {
   "cell_type": "code",
   "execution_count": 35,
   "metadata": {
    "collapsed": false,
    "deletable": true,
    "editable": true
   },
   "outputs": [
    {
     "name": "stdout",
     "output_type": "stream",
     "text": [
      "4.768\n",
      "499\n",
      "0.00955511022044\n"
     ]
    }
   ],
   "source": [
    "# read every 8 floats\n",
    "tot = 0\n",
    "count = 0 \n",
    "for i in xrange(1,500):\n",
    "    cur_ind = i * 8\n",
    "    if cur_ind < records:\n",
    "        pre_ind = cur_ind - 8\n",
    "    \n",
    "        dif = abs(df_h2d[\"us\"].iloc[cur_ind] - df_h2d[\"us\"].iloc[pre_ind])\n",
    "        tot = tot + dif\n",
    "        count = count + 1\n",
    "\n",
    "avg = tot / (float)(count)\n",
    "print tot\n",
    "print count\n",
    "print avg"
   ]
  },
  {
   "cell_type": "code",
   "execution_count": 36,
   "metadata": {
    "collapsed": false,
    "deletable": true,
    "editable": true
   },
   "outputs": [
    {
     "name": "stdout",
     "output_type": "stream",
     "text": [
      "7.376\n",
      "499\n",
      "0.0147815631263\n"
     ]
    }
   ],
   "source": [
    "# read every 16 floats \n",
    "tot = 0\n",
    "count = 0 \n",
    "for i in xrange(1,500):\n",
    "    cur_ind = i * 16 \n",
    "    if cur_ind < records:\n",
    "        pre_ind = cur_ind - 16\n",
    "    \n",
    "        dif = abs(df_h2d[\"us\"].iloc[cur_ind] - df_h2d[\"us\"].iloc[pre_ind])\n",
    "        tot = tot + dif\n",
    "        count = count + 1\n",
    "\n",
    "avg = tot / (float)(count)\n",
    "print tot\n",
    "print count\n",
    "print avg"
   ]
  },
  {
   "cell_type": "code",
   "execution_count": 37,
   "metadata": {
    "collapsed": false,
    "deletable": true,
    "editable": true
   },
   "outputs": [
    {
     "name": "stdout",
     "output_type": "stream",
     "text": [
      "11.968\n",
      "499\n",
      "0.0239839679359\n"
     ]
    }
   ],
   "source": [
    "# read every 32 floats\n",
    "tot = 0\n",
    "count = 0 \n",
    "for i in xrange(1,500):\n",
    "    cur_ind = i * 32\n",
    "    if cur_ind < records:\n",
    "        pre_ind = cur_ind - 32\n",
    "    \n",
    "        dif = abs(df_h2d[\"us\"].iloc[cur_ind] - df_h2d[\"us\"].iloc[pre_ind])\n",
    "        tot = tot + dif\n",
    "        count = count + 1\n",
    "\n",
    "avg = tot / (float)(count)\n",
    "print tot\n",
    "print count\n",
    "print avg"
   ]
  },
  {
   "cell_type": "code",
   "execution_count": 38,
   "metadata": {
    "collapsed": false,
    "deletable": true,
    "editable": true
   },
   "outputs": [
    {
     "name": "stdout",
     "output_type": "stream",
     "text": [
      "15.152\n",
      "499\n",
      "0.0303647294589\n"
     ]
    }
   ],
   "source": [
    "# read every 48 floats\n",
    "tot = 0\n",
    "count = 0 \n",
    "for i in xrange(1,500):\n",
    "    cur_ind = i * 48\n",
    "    if cur_ind < records:\n",
    "        pre_ind = cur_ind - 48\n",
    "    \n",
    "        dif = abs(df_h2d[\"us\"].iloc[cur_ind] - df_h2d[\"us\"].iloc[pre_ind])\n",
    "        tot = tot + dif\n",
    "        count = count + 1\n",
    "\n",
    "avg = tot / (float)(count)\n",
    "print tot\n",
    "print count\n",
    "print avg"
   ]
  },
  {
   "cell_type": "code",
   "execution_count": 39,
   "metadata": {
    "collapsed": false,
    "deletable": true,
    "editable": true
   },
   "outputs": [
    {
     "name": "stdout",
     "output_type": "stream",
     "text": [
      "19.968\n",
      "499\n",
      "0.0400160320641\n"
     ]
    }
   ],
   "source": [
    "# read every 64 floats\n",
    "tot = 0\n",
    "count = 0 \n",
    "for i in xrange(1,500):\n",
    "    cur_ind = i * 64\n",
    "    if cur_ind < records:\n",
    "        pre_ind = cur_ind - 64\n",
    "    \n",
    "        dif = abs(df_h2d[\"us\"].iloc[cur_ind] - df_h2d[\"us\"].iloc[pre_ind])\n",
    "        tot = tot + dif\n",
    "        count = count + 1\n",
    "\n",
    "avg = tot / (float)(count)\n",
    "print tot\n",
    "print count\n",
    "print avg"
   ]
  },
  {
   "cell_type": "code",
   "execution_count": 43,
   "metadata": {
    "collapsed": false,
    "deletable": true,
    "editable": true
   },
   "outputs": [
    {
     "name": "stdout",
     "output_type": "stream",
     "text": [
      "26.832\n",
      "335\n",
      "0.0800955223881\n"
     ]
    }
   ],
   "source": [
    "# read every 128 floats\n",
    "tot = 0\n",
    "count = 0 \n",
    "for i in xrange(1,500):\n",
    "    cur_ind = i * 128\n",
    "    if cur_ind < records:\n",
    "        pre_ind = cur_ind - 128\n",
    "    \n",
    "        dif = abs(df_h2d[\"us\"].iloc[cur_ind] - df_h2d[\"us\"].iloc[pre_ind])\n",
    "        tot = tot + dif\n",
    "        count = count + 1\n",
    "\n",
    "avg = tot / (float)(count)\n",
    "print tot\n",
    "print count\n",
    "print avg"
   ]
  },
  {
   "cell_type": "code",
   "execution_count": 45,
   "metadata": {
    "collapsed": false,
    "deletable": true,
    "editable": true
   },
   "outputs": [
    {
     "name": "stdout",
     "output_type": "stream",
     "text": [
      "26.752\n",
      "167\n",
      "0.160191616766\n"
     ]
    }
   ],
   "source": [
    "# read every 256 floats\n",
    "tot = 0\n",
    "count = 0 \n",
    "for i in xrange(1,500):\n",
    "    cur_ind = i * 256\n",
    "    if cur_ind < records:\n",
    "        pre_ind = cur_ind - 256\n",
    "    \n",
    "        dif = abs(df_h2d[\"us\"].iloc[cur_ind] - df_h2d[\"us\"].iloc[pre_ind])\n",
    "#         print dif\n",
    "        tot = tot + dif\n",
    "        count = count + 1\n",
    "\n",
    "avg = tot / (float)(count)\n",
    "print tot\n",
    "print count\n",
    "print avg"
   ]
  },
  {
   "cell_type": "code",
   "execution_count": 46,
   "metadata": {
    "collapsed": false,
    "deletable": true,
    "editable": true
   },
   "outputs": [
    {
     "name": "stdout",
     "output_type": "stream",
     "text": [
      "26.624\n",
      "83\n",
      "0.320771084337\n"
     ]
    }
   ],
   "source": [
    "# read every 512 floats\n",
    "tot = 0\n",
    "count = 0 \n",
    "for i in xrange(1,500):\n",
    "    cur_ind = i * 512\n",
    "    if cur_ind < records:\n",
    "        pre_ind = cur_ind - 512\n",
    "    \n",
    "        dif = abs(df_h2d[\"us\"].iloc[cur_ind] - df_h2d[\"us\"].iloc[pre_ind])\n",
    "        tot = tot + dif\n",
    "        count = count + 1\n",
    "\n",
    "avg = tot / (float)(count)\n",
    "print tot\n",
    "print count\n",
    "print avg"
   ]
  },
  {
   "cell_type": "code",
   "execution_count": 47,
   "metadata": {
    "collapsed": false,
    "deletable": true,
    "editable": true
   },
   "outputs": [
    {
     "name": "stdout",
     "output_type": "stream",
     "text": [
      "26.288\n",
      "41\n",
      "0.641170731707\n"
     ]
    }
   ],
   "source": [
    "# read every 1024 floats\n",
    "tot = 0\n",
    "count = 0 \n",
    "for i in xrange(1,500):\n",
    "    cur_ind = i * 1024\n",
    "    if cur_ind < records:\n",
    "        pre_ind = cur_ind - 1024\n",
    "    \n",
    "        dif = abs(df_h2d[\"us\"].iloc[cur_ind] - df_h2d[\"us\"].iloc[pre_ind])\n",
    "        tot = tot + dif\n",
    "        count = count + 1\n",
    "\n",
    "avg = tot / (float)(count)\n",
    "print tot\n",
    "print count\n",
    "print avg"
   ]
  }
 ],
 "metadata": {
  "anaconda-cloud": {},
  "kernelspec": {
   "display_name": "Python [default]",
   "language": "python",
   "name": "python2"
  },
  "language_info": {
   "codemirror_mode": {
    "name": "ipython",
    "version": 2
   },
   "file_extension": ".py",
   "mimetype": "text/x-python",
   "name": "python",
   "nbconvert_exporter": "python",
   "pygments_lexer": "ipython2",
   "version": "2.7.13"
  }
 },
 "nbformat": 4,
 "nbformat_minor": 1
}
