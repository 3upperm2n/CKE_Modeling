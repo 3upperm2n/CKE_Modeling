{
 "cells": [
  {
   "cell_type": "markdown",
   "metadata": {},
   "source": [
    "# vector add  ( A+B = C )   vector size : 80 x 80      "
   ]
  },
  {
   "cell_type": "markdown",
   "metadata": {},
   "source": [
    "### s1"
   ]
  },
  {
   "cell_type": "code",
   "execution_count": 14,
   "metadata": {
    "collapsed": false
   },
   "outputs": [
    {
     "name": "stdout",
     "output_type": "stream",
     "text": [
      "0.045312\n"
     ]
    }
   ],
   "source": [
    "h2d_1 = 0.005824\n",
    "api_ovhd = 0.004176\n",
    "h2d_2 = 0.0056\n",
    "\n",
    "kernel_launch_ovhd = 0.0144\n",
    "kernel = 0.001952\n",
    "\n",
    "d2h_ovhd = 0.008048\n",
    "d2h_1 = 0.005312\n",
    "\n",
    "s1_runtime = h2d_1 + api_ovhd + h2d_2 + kernel_launch_ovhd + kernel + d2h_ovhd + d2h_1\n",
    "\n",
    "print s1_runtime"
   ]
  },
  {
   "cell_type": "markdown",
   "metadata": {},
   "source": [
    "### s2"
   ]
  },
  {
   "cell_type": "code",
   "execution_count": 15,
   "metadata": {
    "collapsed": false
   },
   "outputs": [],
   "source": [
    "# s2_start = h2d_1 + api_ovhd + h2d_2 + api_ovhd\n",
    "# total_runtime = s2_start + s1_runtime\n",
    "# print total_runtime"
   ]
  },
  {
   "cell_type": "code",
   "execution_count": 16,
   "metadata": {
    "collapsed": false
   },
   "outputs": [
    {
     "name": "stdout",
     "output_type": "stream",
     "text": [
      "0.0156\n"
     ]
    }
   ],
   "source": [
    "h2d = h2d_1 + api_ovhd + h2d_2\n",
    "print h2d\n",
    "\n",
    "kern = 0.001952\n",
    "\n",
    "d2h = 0.005312\n",
    "\n",
    "api_ovhd = 0.005"
   ]
  },
  {
   "cell_type": "code",
   "execution_count": 17,
   "metadata": {
    "collapsed": true
   },
   "outputs": [],
   "source": [
    "class Streams:\n",
    "    def __init__ (self, h2d, k, d2h, start):\n",
    "        self.h2d = h2d\n",
    "        self.h2d_kern_gap = 0.0144\n",
    "        self.kern = k\n",
    "        self.d2h = d2h\n",
    "        self.start = start\n",
    "        "
   ]
  },
  {
   "cell_type": "code",
   "execution_count": 18,
   "metadata": {
    "collapsed": false
   },
   "outputs": [],
   "source": [
    "K = 3\n",
    "# create a list of the class\n",
    "cuStreams = [Streams(0,0,0,0) for i in xrange(K)]"
   ]
  },
  {
   "cell_type": "code",
   "execution_count": 19,
   "metadata": {
    "collapsed": false
   },
   "outputs": [
    {
     "name": "stdout",
     "output_type": "stream",
     "text": [
      "0.0\n",
      "0.0156\n",
      "0.0312\n"
     ]
    }
   ],
   "source": [
    "for i in xrange(K):\n",
    "    cuStreams[0].h2d = i * h2d\n",
    "    print cuStreams[0].h2d"
   ]
  },
  {
   "cell_type": "code",
   "execution_count": null,
   "metadata": {
    "collapsed": true
   },
   "outputs": [],
   "source": []
  }
 ],
 "metadata": {
  "anaconda-cloud": {},
  "kernelspec": {
   "display_name": "Python [default]",
   "language": "python",
   "name": "python2"
  },
  "language_info": {
   "codemirror_mode": {
    "name": "ipython",
    "version": 2
   },
   "file_extension": ".py",
   "mimetype": "text/x-python",
   "name": "python",
   "nbconvert_exporter": "python",
   "pygments_lexer": "ipython2",
   "version": "2.7.12"
  }
 },
 "nbformat": 4,
 "nbformat_minor": 1
}
