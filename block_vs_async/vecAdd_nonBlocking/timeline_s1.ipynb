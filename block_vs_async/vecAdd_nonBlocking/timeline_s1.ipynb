{
 "cells": [
  {
   "cell_type": "code",
   "execution_count": 1,
   "metadata": {
    "collapsed": false
   },
   "outputs": [
    {
     "name": "stderr",
     "output_type": "stream",
     "text": [
      "/home/leiming/anaconda2/lib/python2.7/site-packages/matplotlib/font_manager.py:273: UserWarning: Matplotlib is building the font cache using fc-list. This may take a moment.\n",
      "  warnings.warn('Matplotlib is building the font cache using fc-list. This may take a moment.')\n"
     ]
    }
   ],
   "source": [
    "import matplotlib.pyplot as plt\n",
    "import numpy as np"
   ]
  },
  {
   "cell_type": "code",
   "execution_count": 2,
   "metadata": {
    "collapsed": true
   },
   "outputs": [],
   "source": [
    "# [1] remove edge color\n",
    "# http://stackoverflow.com/questions/15904042/matplotlib-bar-graph-black-how-do-i-remove-bar-borders\n",
    "# edgecolor = \"none\"\n",
    "\n",
    "\n",
    "# [2] remove the text on y axis\n",
    "# http://stackoverflow.com/questions/2176424/hiding-axis-text-in-matplotlib-plots\n",
    "\n",
    "# [3] change the ratio \n",
    "# http://stackoverflow.com/questions/4747051/matplotlib-subplots-with-fixed-aspect-ratio"
   ]
  },
  {
   "cell_type": "markdown",
   "metadata": {},
   "source": [
    "### CKE Flow"
   ]
  },
  {
   "cell_type": "code",
   "execution_count": 3,
   "metadata": {
    "collapsed": false
   },
   "outputs": [
    {
     "name": "stdout",
     "output_type": "stream",
     "text": [
      "0.32\n"
     ]
    },
    {
     "name": "stderr",
     "output_type": "stream",
     "text": [
      "/home/leiming/anaconda2/lib/python2.7/site-packages/matplotlib/axes/_base.py:1210: UnicodeWarning: Unicode equal comparison failed to convert both arguments to Unicode - interpreting them as being unequal\n",
      "  if aspect == 'normal':\n",
      "/home/leiming/anaconda2/lib/python2.7/site-packages/matplotlib/axes/_base.py:1215: UnicodeWarning: Unicode equal comparison failed to convert both arguments to Unicode - interpreting them as being unequal\n",
      "  elif aspect in ('equal', 'auto'):\n"
     ]
    },
    {
     "data": {
      "image/png": "[encoded data removed]",
      "text/plain": [
       "<matplotlib.figure.Figure at 0x7f4363cbb490>"
      ]
     },
     "metadata": {},
     "output_type": "display_data"
    }
   ],
   "source": [
    "# Return a subplot axes positioned by the given grid definition.\n",
    "fig, ax = plt.subplots()\n",
    "\n",
    "# stream 13\n",
    "ax.broken_barh([(211.73, 0.26557), \n",
    "                (212.00, 0.26733), \n",
    "                (212.27, 0.057088), \n",
    "                (212.34, 0.29796)],\n",
    "               (1, 1), \n",
    "               facecolors=('#C5EDEE', '#C5EDEE','#2352D0', '#B53689'))\n",
    "\n",
    "# stream 14\n",
    "ax.broken_barh([(212.26, 0.28320), \n",
    "                (212.55, 0.27338), \n",
    "                (212.83, 0.053152), \n",
    "                (212.88, 0.25943)],\n",
    "               (3, 1), \n",
    "               facecolors=('#C5EDEE', '#C5EDEE','#2352D0', '#B53689'))\n",
    "\n",
    "\n",
    "# sgemm,    C5EDEE\n",
    "# sgemv, 2352D0\n",
    "# sgemm, C5EDEE\n",
    "# sgemv 2352D0\n",
    "# saxpy B53689\n",
    "# dot 8606F0\n",
    "# reduce 9D0E42\n",
    "# d2h D2E307\n",
    "# kernel_Qd_neg_abs #8606F0\n",
    "# kernel_Fd_neg_pos #D2E307\n",
    "\n",
    "ax.set_ylim(0, 5)\n",
    "\n",
    "#ax.set_xlim(0, 400)\n",
    "#minor_ticks = np.arange(0, 400, 5)\n",
    "\n",
    "\n",
    "# ax.set_xticks(minor_ticks, minor=True)\n",
    "\n",
    "# ax.set_aspect('auto')\n",
    "# ax.set_aspect('equal')\n",
    "\n",
    "\n",
    "# ax.broken_barh([(10, 50), (100, 20), (130, 10)], \n",
    "#                (20, 5),\n",
    "#                facecolors=('red', 'yellow', 'green'))\n",
    "\n",
    "# ax.annotate('sgemm', (61, 25),\n",
    "#             xytext=(0.8, 0.9), textcoords='axes fraction',\n",
    "#             arrowprops=dict(facecolor='black', shrink=0.05),\n",
    "#             fontsize=16,\n",
    "#             horizontalalignment='right', verticalalignment='top')\n",
    "\n",
    "\n",
    "# remove yaxis text\n",
    "ax.yaxis.set_major_formatter(plt.NullFormatter())\n",
    "# ax.set_aspect([0.8 0.8])\n",
    "\n",
    "aspectratio=0.2\n",
    "ratio_default=(ax.get_xlim()[1]-ax.get_xlim()[0])/(ax.get_ylim()[1]-ax.get_ylim()[0])\n",
    "print ratio_default\n",
    "ax.set_aspect(ratio_default*aspectratio)\n",
    "\n",
    "plt.show()"
   ]
  },
  {
   "cell_type": "code",
   "execution_count": 4,
   "metadata": {
    "collapsed": false
   },
   "outputs": [
    {
     "name": "stdout",
     "output_type": "stream",
     "text": [
      "0.08\n"
     ]
    },
    {
     "data": {
      "image/png": "[encoded data removed]",
      "text/plain": [
       "<matplotlib.figure.Figure at 0x7f436114fa10>"
      ]
     },
     "metadata": {},
     "output_type": "display_data"
    }
   ],
   "source": [
    "#Different data size : 1000 x 100\n",
    "\n",
    "\n",
    "# Return a subplot axes positioned by the given grid definition.\n",
    "fig, ax = plt.subplots()\n",
    "\n",
    "# stream 13\n",
    "ax.broken_barh([(211.41, 0.065441), \n",
    "                (211.48, 0.066785), \n",
    "                (211.57, 0.010432), \n",
    "                (211.58, 0.075553)],\n",
    "               (1, 1), \n",
    "               facecolors=('#C5EDEE', '#C5EDEE','#2352D0', '#B53689'))\n",
    "\n",
    "# stream 14\n",
    "ax.broken_barh([(211.55, 0.072033), \n",
    "                (211.62, 0.071776), \n",
    "                (211.70, 0.01056), \n",
    "                (211.71, 0.064256)],\n",
    "               (3, 1), \n",
    "               facecolors=('#C5EDEE', '#C5EDEE','#2352D0', '#B53689'))\n",
    "\n",
    "\n",
    "# sgemm,    C5EDEE\n",
    "# sgemv, 2352D0\n",
    "# sgemm, C5EDEE\n",
    "# sgemv 2352D0\n",
    "# saxpy B53689\n",
    "# dot 8606F0\n",
    "# reduce 9D0E42\n",
    "# d2h D2E307\n",
    "# kernel_Qd_neg_abs #8606F0\n",
    "# kernel_Fd_neg_pos #D2E307\n",
    "\n",
    "ax.set_ylim(0, 5)\n",
    "\n",
    "#ax.set_xlim(0, 400)\n",
    "#minor_ticks = np.arange(0, 400, 5)\n",
    "\n",
    "\n",
    "# ax.set_xticks(minor_ticks, minor=True)\n",
    "\n",
    "# ax.set_aspect('auto')\n",
    "# ax.set_aspect('equal')\n",
    "\n",
    "\n",
    "# ax.broken_barh([(10, 50), (100, 20), (130, 10)], \n",
    "#                (20, 5),\n",
    "#                facecolors=('red', 'yellow', 'green'))\n",
    "\n",
    "# ax.annotate('sgemm', (61, 25),\n",
    "#             xytext=(0.8, 0.9), textcoords='axes fraction',\n",
    "#             arrowprops=dict(facecolor='black', shrink=0.05),\n",
    "#             fontsize=16,\n",
    "#             horizontalalignment='right', verticalalignment='top')\n",
    "\n",
    "\n",
    "# remove yaxis text\n",
    "ax.yaxis.set_major_formatter(plt.NullFormatter())\n",
    "# ax.set_aspect([0.8 0.8])\n",
    "\n",
    "aspectratio=0.2\n",
    "ratio_default=(ax.get_xlim()[1]-ax.get_xlim()[0])/(ax.get_ylim()[1]-ax.get_ylim()[0])\n",
    "print ratio_default\n",
    "ax.set_aspect(ratio_default*aspectratio)\n",
    "\n",
    "plt.show()"
   ]
  }
 ],
 "metadata": {
  "anaconda-cloud": {},
  "kernelspec": {
   "display_name": "Python [default]",
   "language": "python",
   "name": "python2"
  },
  "language_info": {
   "codemirror_mode": {
    "name": "ipython",
    "version": 2
   },
   "file_extension": ".py",
   "mimetype": "text/x-python",
   "name": "python",
   "nbconvert_exporter": "python",
   "pygments_lexer": "ipython2",
   "version": "2.7.12"
  }
 },
 "nbformat": 4,
 "nbformat_minor": 1
}
