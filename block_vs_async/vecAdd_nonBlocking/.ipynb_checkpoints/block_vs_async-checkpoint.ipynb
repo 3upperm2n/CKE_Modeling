{
 "cells": [
  {
   "cell_type": "code",
   "execution_count": 21,
   "metadata": {
    "collapsed": false
   },
   "outputs": [],
   "source": [
    "import matplotlib.pyplot as plt\n",
    "import numpy as np"
   ]
  },
  {
   "cell_type": "code",
   "execution_count": 22,
   "metadata": {
    "collapsed": true
   },
   "outputs": [],
   "source": [
    "# [1] remove edge color\n",
    "# http://stackoverflow.com/questions/15904042/matplotlib-bar-graph-black-how-do-i-remove-bar-borders\n",
    "# edgecolor = \"none\"\n",
    "\n",
    "\n",
    "# [2] remove the text on y axis\n",
    "# http://stackoverflow.com/questions/2176424/hiding-axis-text-in-matplotlib-plots\n",
    "\n",
    "# [3] change the ratio \n",
    "# http://stackoverflow.com/questions/4747051/matplotlib-subplots-with-fixed-aspect-ratio"
   ]
  },
  {
   "cell_type": "markdown",
   "metadata": {},
   "source": [
    "### async : N = 2^20"
   ]
  },
  {
   "cell_type": "code",
   "execution_count": 23,
   "metadata": {
    "collapsed": false,
    "scrolled": true
   },
   "outputs": [
    {
     "name": "stdout",
     "output_type": "stream",
     "text": [
      "0.8\n"
     ]
    },
    {
     "data": {
      "image/png": "[encoded data removed]",
      "text/plain": [
       "<matplotlib.figure.Figure at 0x7f8127c6fd90>"
      ]
     },
     "metadata": {},
     "output_type": "display_data"
    }
   ],
   "source": [
    "\n",
    "# Return a subplot axes positioned by the given grid definition.\n",
    "fig, ax = plt.subplots()\n",
    "\n",
    "\n",
    "\n",
    "# stream 14\n",
    "ax.broken_barh([(217.24, 0.72807), \n",
    "                (217.97, 0.69104), \n",
    "                (218.67, 0.13274), \n",
    "                (218.80, 0.65975)],\n",
    "               (1, 1), \n",
    "               facecolors=('#C5EDEE', '#C5EDEE','#D2E307', '#C5EDEE'))\n",
    "\n",
    "# stream 13\n",
    "ax.broken_barh([(215.87, 0.68292), \n",
    "                (216.55, 0.68644), \n",
    "                (217.25, 0.14381), \n",
    "                (217.39, 0.75348)],\n",
    "               (3, 1), \n",
    "               facecolors=('#C5EDEE', '#C5EDEE','#D2E307', '#C5EDEE'))\n",
    "\n",
    "\n",
    "# sgemm,    C5EDEE\n",
    "# sgemv, 2352D0\n",
    "# sgemm, C5EDEE\n",
    "# sgemv 2352D0\n",
    "# saxpy B53689\n",
    "# dot 8606F0\n",
    "# reduce 9D0E42\n",
    "# d2h D2E307\n",
    "# kernel_Qd_neg_abs #8606F0\n",
    "# kernel_Fd_neg_pos #D2E307\n",
    "\n",
    "ax.set_ylim(0, 5)\n",
    "ax.set_yticks([1.5, 3.5])\n",
    "ax.set_yticklabels(['stream-1', 'stream-0'])\n",
    "\n",
    "ax.set_xlabel('timeline (ms)')\n",
    "\n",
    "#ax.set_xlim(0, 400)\n",
    "#minor_ticks = np.arange(0, 400, 5)\n",
    "\n",
    "\n",
    "# ax.set_xticks(minor_ticks, minor=True)\n",
    "\n",
    "# ax.set_aspect('auto')\n",
    "# ax.set_aspect('equal')\n",
    "\n",
    "ax.annotate('h2d', (217.5, 1.25),fontsize=10)\n",
    "ax.annotate('h2d', (218.25, 1.25),fontsize=10)\n",
    "ax.annotate('K', (218.7, 1.25),fontsize=10)\n",
    "ax.annotate('d2h', (219, 1.25),fontsize=10)\n",
    "\n",
    "ax.annotate('h2d', (216.15, 3.25), fontsize=10)\n",
    "ax.annotate('h2d', (216.75, 3.25), fontsize=10)\n",
    "ax.annotate('K', (217.28, 3.25), fontsize=10)\n",
    "ax.annotate('d2h', (217.65, 3.25), fontsize=10)\n",
    "\n",
    "\n",
    "\n",
    "## remove yaxis text\n",
    "#ax.yaxis.set_major_formatter(plt.NullFormatter())\n",
    "\n",
    "# ax.set_aspect([0.8 0.8])\n",
    "\n",
    "aspectratio=0.2\n",
    "ratio_default=(ax.get_xlim()[1]-ax.get_xlim()[0])/(ax.get_ylim()[1]-ax.get_ylim()[0])\n",
    "print ratio_default\n",
    "ax.set_aspect(ratio_default*aspectratio)\n",
    "\n",
    "plt.show()"
   ]
  },
  {
   "cell_type": "markdown",
   "metadata": {},
   "source": [
    "### sync: N = 2^20"
   ]
  },
  {
   "cell_type": "code",
   "execution_count": 24,
   "metadata": {
    "collapsed": false
   },
   "outputs": [
    {
     "name": "stdout",
     "output_type": "stream",
     "text": [
      "1.2\n"
     ]
    },
    {
     "data": {
      "image/png": "[encoded data removed]",
      "text/plain": [
       "<matplotlib.figure.Figure at 0x7f8127a92050>"
      ]
     },
     "metadata": {},
     "output_type": "display_data"
    }
   ],
   "source": [
    "fig, ax = plt.subplots()\n",
    "\n",
    "# stream 13\n",
    "ax.broken_barh([(214.52, 0.75683), \n",
    "                (215.30, 0.71501), \n",
    "                (217.21, 0.14394), \n",
    "                (217.36, 0.81699)],\n",
    "               (3, 1), \n",
    "               facecolors=('#C5EDEE', '#C5EDEE','#D2E307', '#C5EDEE'))\n",
    "\n",
    "\n",
    "# stream 14\n",
    "ax.broken_barh([(216.01, 0.68441), \n",
    "                (216.70, 0.68457), \n",
    "                (217.40, 0.14147), \n",
    "                (218.36, 0.77693)],\n",
    "               (1, 1), \n",
    "               facecolors=('#C5EDEE', '#C5EDEE','#D2E307', '#C5EDEE'))\n",
    "\n",
    "ax.set_ylim(0, 5)\n",
    "ax.set_yticks([1.5, 3.5])\n",
    "ax.set_yticklabels(['stream-1', 'stream-0'])\n",
    "\n",
    "ax.set_xlabel('timeline (ms)')\n",
    "\n",
    "\n",
    "ax.annotate('h2d', (216.2, 1.25),fontsize=10)\n",
    "ax.annotate('h2d', (216.9, 1.25),fontsize=10)\n",
    "ax.annotate('K', (217.42, 1.25),fontsize=10)\n",
    "ax.annotate('d2h', (218.55, 1.25),fontsize=10)\n",
    "\n",
    "\n",
    "ax.annotate('h2d', (214.8, 3.25), fontsize=10)\n",
    "ax.annotate('h2d', (215.5, 3.25), fontsize=10)\n",
    "ax.annotate('K', (217.22, 3.25), fontsize=10)\n",
    "ax.annotate('d2h', (217.65, 3.25), fontsize=10)\n",
    "\n",
    "\n",
    "\n",
    "aspectratio=0.2\n",
    "ratio_default=(ax.get_xlim()[1]-ax.get_xlim()[0])/(ax.get_ylim()[1]-ax.get_ylim()[0])\n",
    "print ratio_default\n",
    "ax.set_aspect(ratio_default*aspectratio)\n",
    "\n",
    "plt.show()"
   ]
  },
  {
   "cell_type": "code",
   "execution_count": 25,
   "metadata": {
    "collapsed": false
   },
   "outputs": [
    {
     "name": "stdout",
     "output_type": "stream",
     "text": [
      "1.2\n"
     ]
    },
    {
     "data": {
      "image/png": "[encoded data removed]",
      "text/plain": [
       "<matplotlib.figure.Figure at 0x7f8127a63d90>"
      ]
     },
     "metadata": {},
     "output_type": "display_data"
    }
   ],
   "source": [
    "fig, ax = plt.subplots()\n",
    "\n",
    "bar_loc = (3, 1)\n",
    "\n",
    "api_call_seq = [(214.52, 0.75683), \n",
    "                (215.30, 0.71501), \n",
    "                (217.21, 0.14394), \n",
    "                (217.36, 0.81699)]\n",
    "\n",
    "transfer_color = '#C5EDEE'\n",
    "kernel_color = '#D2E307'\n",
    "\n",
    "api_color_seq = (transfer_color, transfer_color, kernel_color, transfer_color)\n",
    "\n",
    "\n",
    "\n",
    "# stream 13\n",
    "ax.broken_barh(api_call_seq,\n",
    "               bar_loc, \n",
    "               facecolors=api_color_seq)\n",
    "\n",
    "\n",
    "# stream 14\n",
    "ax.broken_barh([(216.01, 0.68441), \n",
    "                (216.70, 0.68457), \n",
    "                (217.40, 0.14147), \n",
    "                (218.36, 0.77693)],\n",
    "               (1, 1), \n",
    "               facecolors=('#C5EDEE', '#C5EDEE','#D2E307', '#C5EDEE'))\n",
    "\n",
    "ax.annotate('h2d', (216.2, 1.25),fontsize=10)\n",
    "ax.annotate('h2d', (216.9, 1.25),fontsize=10)\n",
    "ax.annotate('K', (217.42, 1.25),fontsize=10)\n",
    "ax.annotate('d2h', (218.55, 1.25),fontsize=10)\n",
    "\n",
    "\n",
    "\n",
    "ax.set_ylim(0, 5)\n",
    "ax.set_yticks([1.5, 3.5])\n",
    "ax.set_yticklabels(['stream-1', 'stream-0'])\n",
    "\n",
    "ax.set_xlabel('timeline (ms)')\n",
    "\n",
    "\n",
    "\n",
    "\n",
    "ax.annotate('h2d', (214.8, 3.25), fontsize=10)\n",
    "ax.annotate('h2d', (215.5, 3.25), fontsize=10)\n",
    "ax.annotate('K', (217.22, 3.25), fontsize=10)\n",
    "ax.annotate('d2h', (217.65, 3.25), fontsize=10)\n",
    "\n",
    "\n",
    "\n",
    "aspectratio=0.2\n",
    "ratio_default=(ax.get_xlim()[1]-ax.get_xlim()[0])/(ax.get_ylim()[1]-ax.get_ylim()[0])\n",
    "print ratio_default\n",
    "ax.set_aspect(ratio_default*aspectratio)\n",
    "\n",
    "plt.show()"
   ]
  }
 ],
 "metadata": {
  "anaconda-cloud": {},
  "kernelspec": {
   "display_name": "Python [default]",
   "language": "python",
   "name": "python2"
  },
  "language_info": {
   "codemirror_mode": {
    "name": "ipython",
    "version": 2
   },
   "file_extension": ".py",
   "mimetype": "text/x-python",
   "name": "python",
   "nbconvert_exporter": "python",
   "pygments_lexer": "ipython2",
   "version": "2.7.12"
  }
 },
 "nbformat": 4,
 "nbformat_minor": 1
}
