{
 "cells": [
  {
   "cell_type": "code",
   "execution_count": 1,
   "metadata": {
    "collapsed": false
   },
   "outputs": [
    {
     "name": "stderr",
     "output_type": "stream",
     "text": [
      "/home/leiming/anaconda2/lib/python2.7/site-packages/matplotlib/font_manager.py:273: UserWarning: Matplotlib is building the font cache using fc-list. This may take a moment.\n",
      "  warnings.warn('Matplotlib is building the font cache using fc-list. This may take a moment.')\n"
     ]
    }
   ],
   "source": [
    "import matplotlib.pyplot as plt\n",
    "import numpy as np"
   ]
  },
  {
   "cell_type": "code",
   "execution_count": 148,
   "metadata": {
    "collapsed": false
   },
   "outputs": [
    {
     "name": "stdout",
     "output_type": "stream",
     "text": [
      "666.666666667\n"
     ]
    },
    {
     "data": {
      "image/png": "[encoded data removed]",
      "text/plain": [
       "<matplotlib.figure.Figure at 0x7f2275892490>"
      ]
     },
     "metadata": {},
     "output_type": "display_data"
    }
   ],
   "source": [
    "# # Return a subplot axes positioned by the given grid definition.\n",
    "# fig, ax = plt.subplots()\n",
    "# # fig.subplots_adjust(hspace=0.1, wspace=0.05)\n",
    "\n",
    "\n",
    "# # the 1st arg : xrange\n",
    "# # the 2nd arg : yrange\n",
    "# ax.broken_barh([(210.96, 210.965824), \n",
    "#                 (159.486, 15.104), (177.054,115.006), (294.524, 15.168), \n",
    "#                 (312.476, 2.432), (317.692, 3.36), (323.516, 2.336), \n",
    "#                 (327.452, 1.632), (352.091,18.976), (373.467, 2.016)],\n",
    "#                (0.4, 0.2), \n",
    "#                facecolors=('#C5EDEE', '#2352D0','#C5EDEE', '#2352D0', '#B53689', \n",
    "#                            '#8606F0', '#9D0E42', '#D2E307', '#8606F0', '#D2E307'))\n",
    "\n",
    "\n",
    "# # sgemm,    C5EDEE\n",
    "# # sgemv, 2352D0\n",
    "# # sgemm, C5EDEE\n",
    "# # sgemv 2352D0\n",
    "# # saxpy B53689\n",
    "# # dot 8606F0\n",
    "# # reduce 9D0E42\n",
    "# # d2h D2E307\n",
    "# # kernel_Qd_neg_abs #8606F0\n",
    "# # kernel_Fd_neg_pos #D2E307\n",
    "\n",
    "# ax.set_ylim(0.2, 0.8)\n",
    "# ax.set_xlim(0, 400)\n",
    "\n",
    "# minor_ticks = np.arange(0, 400, 5)\n",
    "# # ax.set_xticks(minor_ticks, minor=True)\n",
    "\n",
    "# # ax.set_aspect('auto')\n",
    "# # ax.set_aspect('equal')\n",
    "\n",
    "\n",
    "# # ax.broken_barh([(10, 50), (100, 20), (130, 10)], \n",
    "# #                (20, 5),\n",
    "# #                facecolors=('red', 'yellow', 'green'))\n",
    "\n",
    "# # ax.annotate('sgemm', (61, 25),\n",
    "# #             xytext=(0.8, 0.9), textcoords='axes fraction',\n",
    "# #             arrowprops=dict(facecolor='black', shrink=0.05),\n",
    "# #             fontsize=16,\n",
    "# #             horizontalalignment='right', verticalalignment='top')\n",
    "\n",
    "\n",
    "# # remove yaxis text\n",
    "# ax.yaxis.set_major_formatter(plt.NullFormatter())\n",
    "# # ax.set_aspect([0.8 0.8])\n",
    "\n",
    "# aspectratio=0.1\n",
    "# ratio_default=(ax.get_xlim()[1]-ax.get_xlim()[0])/(ax.get_ylim()[1]-ax.get_ylim()[0])\n",
    "# print ratio_default\n",
    "# ax.set_aspect(ratio_default*aspectratio)\n",
    "\n",
    "# plt.show()"
   ]
  },
  {
   "cell_type": "code",
   "execution_count": 149,
   "metadata": {
    "collapsed": true
   },
   "outputs": [],
   "source": [
    "# [1] remove edge color\n",
    "# http://stackoverflow.com/questions/15904042/matplotlib-bar-graph-black-how-do-i-remove-bar-borders\n",
    "# edgecolor = \"none\"\n",
    "\n",
    "\n",
    "# [2] remove the text on y axis\n",
    "# http://stackoverflow.com/questions/2176424/hiding-axis-text-in-matplotlib-plots\n",
    "\n",
    "# [3] change the ratio \n",
    "# http://stackoverflow.com/questions/4747051/matplotlib-subplots-with-fixed-aspect-ratio"
   ]
  },
  {
   "cell_type": "markdown",
   "metadata": {},
   "source": [
    "### CKE Flow"
   ]
  },
  {
   "cell_type": "code",
   "execution_count": 5,
   "metadata": {
    "collapsed": false
   },
   "outputs": [
    {
     "name": "stdout",
     "output_type": "stream",
     "text": [
      "0.0166666666667\n"
     ]
    },
    {
     "data": {
      "image/png": "[encoded data removed]",
      "text/plain": [
       "<matplotlib.figure.Figure at 0x7f87763a0b10>"
      ]
     },
     "metadata": {},
     "output_type": "display_data"
    }
   ],
   "source": [
    "# import matplotlib.pyplot as plt\n",
    "# import numpy as np\n",
    "\n",
    "# Return a subplot axes positioned by the given grid definition.\n",
    "fig, ax = plt.subplots()\n",
    "\n",
    "# the 1st arg : xrange\n",
    "# the 2nd arg : yrange\n",
    "ax.broken_barh([(210.96, 0.005824), \n",
    "                (210.97, 0.0056), \n",
    "                (210.99, 0.001952), \n",
    "                (211, 0.005312)],\n",
    "               (1, 1), \n",
    "               facecolors=('#C5EDEE', '#C5EDEE','#2352D0', '#B53689'))\n",
    "\n",
    "\n",
    "# sgemm,    C5EDEE\n",
    "# sgemv, 2352D0\n",
    "# sgemm, C5EDEE\n",
    "# sgemv 2352D0\n",
    "# saxpy B53689\n",
    "# dot 8606F0\n",
    "# reduce 9D0E42\n",
    "# d2h D2E307\n",
    "# kernel_Qd_neg_abs #8606F0\n",
    "# kernel_Fd_neg_pos #D2E307\n",
    "\n",
    "ax.set_ylim(0, 3)\n",
    "\n",
    "#ax.set_xlim(0, 400)\n",
    "#minor_ticks = np.arange(0, 400, 5)\n",
    "\n",
    "\n",
    "# ax.set_xticks(minor_ticks, minor=True)\n",
    "\n",
    "# ax.set_aspect('auto')\n",
    "# ax.set_aspect('equal')\n",
    "\n",
    "\n",
    "# ax.broken_barh([(10, 50), (100, 20), (130, 10)], \n",
    "#                (20, 5),\n",
    "#                facecolors=('red', 'yellow', 'green'))\n",
    "\n",
    "# ax.annotate('sgemm', (61, 25),\n",
    "#             xytext=(0.8, 0.9), textcoords='axes fraction',\n",
    "#             arrowprops=dict(facecolor='black', shrink=0.05),\n",
    "#             fontsize=16,\n",
    "#             horizontalalignment='right', verticalalignment='top')\n",
    "\n",
    "\n",
    "# remove yaxis text\n",
    "ax.yaxis.set_major_formatter(plt.NullFormatter())\n",
    "# ax.set_aspect([0.8 0.8])\n",
    "\n",
    "aspectratio=0.2\n",
    "ratio_default=(ax.get_xlim()[1]-ax.get_xlim()[0])/(ax.get_ylim()[1]-ax.get_ylim()[0])\n",
    "print ratio_default\n",
    "ax.set_aspect(ratio_default*aspectratio)\n",
    "\n",
    "plt.show()"
   ]
  }
 ],
 "metadata": {
  "anaconda-cloud": {},
  "kernelspec": {
   "display_name": "Python [default]",
   "language": "python",
   "name": "python2"
  },
  "language_info": {
   "codemirror_mode": {
    "name": "ipython",
    "version": 2
   },
   "file_extension": ".py",
   "mimetype": "text/x-python",
   "name": "python",
   "nbconvert_exporter": "python",
   "pygments_lexer": "ipython2",
   "version": "2.7.12"
  }
 },
 "nbformat": 4,
 "nbformat_minor": 1
}
