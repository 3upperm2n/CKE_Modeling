{
 "cells": [
  {
   "cell_type": "markdown",
   "metadata": {
    "deletable": true,
    "editable": true
   },
   "source": [
    "# Generate Timeline from profiling trace from nvvp\n",
    "\n",
    "by Leiming Yu\n",
    "\n",
    "* Twitter: @yu_leiming\n",
    "* Blog: http://www1.coe.neu.edu/~ylm/"
   ]
  },
  {
   "cell_type": "markdown",
   "metadata": {
    "deletable": true,
    "editable": true
   },
   "source": [
    "### prerequisite\n",
    "\n",
    "profile your application using nvprof\n",
    "\n",
    "```bash\n",
    "nvprof --print-gpu-trace --csv Application_XXX 2> trace.csv \n",
    "```"
   ]
  },
  {
   "cell_type": "code",
   "execution_count": 1,
   "metadata": {
    "collapsed": true,
    "deletable": true,
    "editable": true
   },
   "outputs": [],
   "source": [
    "import pandas as pd\n",
    "import numpy as np\n",
    "import operator"
   ]
  },
  {
   "cell_type": "markdown",
   "metadata": {
    "deletable": true,
    "editable": true
   },
   "source": [
    "### read trace file"
   ]
  },
  {
   "cell_type": "code",
   "execution_count": 2,
   "metadata": {
    "collapsed": false,
    "deletable": true,
    "editable": true
   },
   "outputs": [],
   "source": [
    "#trace_file = \"trace_block.csv\"\n",
    "trace_file = \"trace_async.csv\"\n",
    "\n",
    "# There are max 17 columns in the output csv\n",
    "col_name = [\"Start\",\"Duration\",\"Grid X\",\"Grid Y\",\"Grid Z\",\"Block X\",\"Block Y\",\"Block Z\",\"Registers Per Thread\",\"Static SMem\",\"Dynamic SMem\",\"Size\",\"Throughput\",\"Device\",\"Context\",\"Stream\",\"Name\"]\n",
    "\n",
    "df_trace = pd.read_csv(trace_file, names=col_name, engine='python')\n",
    "\n",
    "rows_to_skip = 0\n",
    "\n",
    "## find out the number of rows to skip\n",
    "for index, row in df_trace.iterrows():\n",
    "    if row['Start'] == 'Start':\n",
    "        rows_to_skip = index\n",
    "        break\n",
    "        \n",
    "# read the input csv again \n",
    "df_trace = pd.read_csv(trace_file, skiprows=rows_to_skip)"
   ]
  },
  {
   "cell_type": "code",
   "execution_count": 3,
   "metadata": {
    "collapsed": false,
    "deletable": true,
    "editable": true
   },
   "outputs": [],
   "source": [
    "class transfer():\n",
    "    def __init__(self, start=0.0,end=0.0):\n",
    "        self.start_time_ms = start\n",
    "        self.end_time_ms = end"
   ]
  },
  {
   "cell_type": "code",
   "execution_count": 4,
   "metadata": {
    "collapsed": true,
    "deletable": true,
    "editable": true
   },
   "outputs": [],
   "source": [
    "class streams():\n",
    "    def __init__(self):\n",
    "        self.h2d = []\n",
    "        self.d2h = []\n",
    "        self.kernel = []"
   ]
  },
  {
   "cell_type": "code",
   "execution_count": 5,
   "metadata": {
    "collapsed": true,
    "deletable": true,
    "editable": true
   },
   "outputs": [],
   "source": [
    "def time_coef_ms(df_trace):\n",
    "    rows, cols = df_trace.shape\n",
    "    \n",
    "    start_unit = df_trace['Start'].iloc[0]\n",
    "    duration_unit = df_trace['Duration'].iloc[0]\n",
    "    \n",
    "    start_coef =  1.0\n",
    "    if start_unit == 's':\n",
    "        start_coef = 1e3\n",
    "    if start_unit == 'us':\n",
    "        start_coef = 1e-3\n",
    "    \n",
    "    duration_coef =  1.0\n",
    "    if duration_unit == 's':\n",
    "        duration_coef = 1e3\n",
    "    if duration_unit == 'us':\n",
    "        duration_coef = 1e-3\n",
    "        \n",
    "    return start_coef, duration_coef"
   ]
  },
  {
   "cell_type": "code",
   "execution_count": 6,
   "metadata": {
    "collapsed": true,
    "deletable": true,
    "editable": true
   },
   "outputs": [],
   "source": [
    "# read data for the current row\n",
    "def read_row(df_row, start_coef_ms, duration_coef_ms):\n",
    "    start_time_ms = float(df_row['Start']) * start_coef_ms\n",
    "    \n",
    "    end_time_ms = start_time_ms + float(df_row['Duration']) * duration_coef_ms\n",
    "    \n",
    "    stream_id = int(df_row['Stream'])\n",
    "    \n",
    "    api_name = df_row['Name'].to_string()\n",
    "    \n",
    "    if \"DtoH\" in api_name:\n",
    "        api_type = 'd2h'\n",
    "    elif \"HtoD\" in api_name:\n",
    "        api_type = 'h2d'\n",
    "    else:\n",
    "        api_type = 'kernel'\n",
    "    \n",
    "    return stream_id, api_type, start_time_ms, end_time_ms"
   ]
  },
  {
   "cell_type": "markdown",
   "metadata": {
    "deletable": true,
    "editable": true
   },
   "source": [
    "### extract data from the trace"
   ]
  },
  {
   "cell_type": "code",
   "execution_count": 7,
   "metadata": {
    "collapsed": true,
    "deletable": true,
    "editable": true
   },
   "outputs": [],
   "source": [
    "streamList = []\n",
    "\n",
    "# read the number of unique streams\n",
    "stream_id_list = df_trace['Stream'].unique()\n",
    "stream_id_list = stream_id_list[~np.isnan(stream_id_list)] # remove nan\n",
    "# stream_id_list = list(stream_id_list)\n",
    "num_streams = len(stream_id_list)\n",
    "\n",
    "for i in xrange(num_streams):\n",
    "    streamList.append(streams())"
   ]
  },
  {
   "cell_type": "code",
   "execution_count": 8,
   "metadata": {
    "collapsed": false,
    "deletable": true,
    "editable": true,
    "scrolled": true
   },
   "outputs": [
    {
     "name": "stderr",
     "output_type": "stream",
     "text": [
      "/home/leiming/anaconda2/lib/python2.7/site-packages/ipykernel/__main__.py:13: VisibleDeprecationWarning: converting an array with ndim > 0 to an index will result in an error in the future\n",
      "/home/leiming/anaconda2/lib/python2.7/site-packages/ipykernel/__main__.py:17: VisibleDeprecationWarning: converting an array with ndim > 0 to an index will result in an error in the future\n",
      "/home/leiming/anaconda2/lib/python2.7/site-packages/ipykernel/__main__.py:15: VisibleDeprecationWarning: converting an array with ndim > 0 to an index will result in an error in the future\n"
     ]
    }
   ],
   "source": [
    "start_coef, duration_coef = time_coef_ms(df_trace)\n",
    "\n",
    "# read row by row\n",
    "for rowID in xrange(1, df_trace.shape[0]):\n",
    "    #  extract info from the current row\n",
    "    stream_id, api_type, start_time_ms, end_time_ms = read_row(df_trace.iloc[[rowID]], start_coef, duration_coef)\n",
    "\n",
    "    # find out index of the stream \n",
    "    sid, = np.where(stream_id_list==stream_id)\n",
    "\n",
    "    # add the start/end time for different api calls\n",
    "    if api_type == 'h2d':\n",
    "        streamList[sid].h2d.append(transfer(start_time_ms, end_time_ms))\n",
    "    elif api_type == 'd2h':\n",
    "        streamList[sid].d2h.append(transfer(start_time_ms, end_time_ms))\n",
    "    elif api_type == 'kernel':\n",
    "        streamList[sid].kernel.append(transfer(start_time_ms, end_time_ms))\n",
    "    else:\n",
    "        print \"Unknown. Error.\""
   ]
  },
  {
   "cell_type": "markdown",
   "metadata": {
    "deletable": true,
    "editable": true
   },
   "source": [
    "### generate timeline\n",
    "\n",
    "You may need to adjust the font size for the annotation. The default is 10."
   ]
  },
  {
   "cell_type": "code",
   "execution_count": 9,
   "metadata": {
    "collapsed": false,
    "deletable": true,
    "editable": true
   },
   "outputs": [],
   "source": [
    "import matplotlib.pyplot as plt\n",
    "import numpy as np"
   ]
  },
  {
   "cell_type": "code",
   "execution_count": 10,
   "metadata": {
    "collapsed": false,
    "deletable": true,
    "editable": true
   },
   "outputs": [],
   "source": [
    "fig, ax = plt.subplots()\n",
    "\n",
    "# each bar will be 1 in height, the interval between centers of each bar is 2\n",
    "# for example, bar 1 is at 1 with width 1 (1, 1), then bar 2 is at 3 with width 1 (3, 1), so on and so forth\n",
    "\n",
    "transfer_color = '#C5EDEE'\n",
    "kernel_color = '#D2E307'\n",
    "\n",
    "stream_num = len(streamList)\n",
    "\n",
    "ylim_max = 1 + stream_num * 2.0\n",
    "\n",
    "stream_tag_pos =  []\n",
    "stream_tag = []\n",
    "\n",
    "for i in xrange(stream_num):\n",
    "    ii = i + 1\n",
    "    \n",
    "    bar_center = ylim_max - ii * 2.0\n",
    "    bar_loc = (bar_center, 1)  # width 1\n",
    "    \n",
    "    # y lable \n",
    "    stream_tag_pos.append(bar_center + 0.5) # 0.5 interv\n",
    "    stream_tag.append('stream-'+ str(i))\n",
    "    \n",
    "    current_stream = streamList[i]\n",
    "    \n",
    "    api_call_seq = []\n",
    "    api_color_seq = []\n",
    "    \n",
    "    # h2d\n",
    "    for j in xrange(len(current_stream.h2d)):\n",
    "        start_time = current_stream.h2d[j].start_time_ms\n",
    "        duration = current_stream.h2d[j].end_time_ms - current_stream.h2d[j].start_time_ms # add start and duration\n",
    "        api_call_seq.append((start_time, duration))\n",
    "        \n",
    "        api_color_seq.append(transfer_color) # add the color for bar\n",
    "        \n",
    "        # pos for the annotation: shift left 0.0015 in the middle of the bar\n",
    "        ax.annotate('h2d', (start_time + duration * 0.35, bar_center + 0.25), fontsize=10)\n",
    "        \n",
    "        \n",
    "    # d2h\n",
    "    for j in xrange(len(current_stream.d2h)):\n",
    "        start_time = current_stream.d2h[j].start_time_ms\n",
    "        duration = current_stream.d2h[j].end_time_ms - current_stream.d2h[j].start_time_ms\n",
    "        api_call_seq.append((start_time, duration))\n",
    "        \n",
    "        api_color_seq.append(transfer_color)\n",
    "        \n",
    "        # pos for the annotation: \n",
    "        ax.annotate('d2h', (start_time + duration * 0.35, bar_center + 0.25), fontsize=10)\n",
    "        \n",
    "    # kernel\n",
    "    for j in xrange(len(current_stream.kernel)):\n",
    "        start_time = current_stream.kernel[j].start_time_ms\n",
    "        duration = current_stream.kernel[j].end_time_ms - current_stream.kernel[j].start_time_ms\n",
    "        api_call_seq.append((start_time, duration))\n",
    "        \n",
    "        api_color_seq.append(kernel_color)\n",
    "        \n",
    "        # kernel annotation\n",
    "        ax.annotate('K', (start_time + duration * 0.35, bar_center + 0.25), fontsize=10)\n",
    "        \n",
    "    # add the bar to the plot for current stream\n",
    "    ax.broken_barh(api_call_seq,\n",
    "               bar_loc, \n",
    "               facecolors=api_color_seq)"
   ]
  },
  {
   "cell_type": "code",
   "execution_count": 11,
   "metadata": {
    "collapsed": false,
    "deletable": true,
    "editable": true
   },
   "outputs": [
    {
     "name": "stderr",
     "output_type": "stream",
     "text": [
      "/home/leiming/anaconda2/lib/python2.7/site-packages/matplotlib/axes/_base.py:1215: UnicodeWarning: Unicode equal comparison failed to convert both arguments to Unicode - interpreting them as being unequal\n",
      "  if aspect == 'normal':\n",
      "/home/leiming/anaconda2/lib/python2.7/site-packages/matplotlib/axes/_base.py:1220: UnicodeWarning: Unicode equal comparison failed to convert both arguments to Unicode - interpreting them as being unequal\n",
      "  elif aspect in ('equal', 'auto'):\n"
     ]
    },
    {
     "data": {
      "image/png": "[encoded data removed]",
      "text/plain": [
       "<matplotlib.figure.Figure at 0x7f0cfda81190>"
      ]
     },
     "metadata": {},
     "output_type": "display_data"
    }
   ],
   "source": [
    "ax.set_ylim(0, ylim_max)\n",
    "\n",
    "ax.set_xlabel('timeline (ms)')\n",
    "\n",
    "ax.set_yticks(stream_tag_pos)\n",
    "ax.set_yticklabels(stream_tag)\n",
    "\n",
    "\n",
    "aspectratio=0.2\n",
    "ratio_default=(ax.get_xlim()[1]-ax.get_xlim()[0])/(ax.get_ylim()[1]-ax.get_ylim()[0])\n",
    "ax.set_aspect(ratio_default*aspectratio)\n",
    "\n",
    "plt.show()"
   ]
  },
  {
   "cell_type": "code",
   "execution_count": 12,
   "metadata": {
    "collapsed": true,
    "deletable": true,
    "editable": true
   },
   "outputs": [],
   "source": [
    "fig.savefig('stream_timeline.pdf')"
   ]
  }
 ],
 "metadata": {
  "anaconda-cloud": {},
  "kernelspec": {
   "display_name": "Python [conda root]",
   "language": "python",
   "name": "conda-root-py"
  },
  "language_info": {
   "codemirror_mode": {
    "name": "ipython",
    "version": 2
   },
   "file_extension": ".py",
   "mimetype": "text/x-python",
   "name": "python",
   "nbconvert_exporter": "python",
   "pygments_lexer": "ipython2",
   "version": "2.7.13"
  }
 },
 "nbformat": 4,
 "nbformat_minor": 1
}
