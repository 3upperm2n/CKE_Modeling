{
 "cells": [
  {
   "cell_type": "code",
   "execution_count": 94,
   "metadata": {
    "collapsed": true
   },
   "outputs": [],
   "source": [
    "import pandas as pd\n",
    "import numpy as np\n",
    "import operator"
   ]
  },
  {
   "cell_type": "code",
   "execution_count": 95,
   "metadata": {
    "collapsed": false
   },
   "outputs": [],
   "source": [
    "#-----------------\n",
    "# read input csv\n",
    "#-----------------\n",
    "trace_file = \"nvprof_gputrace.csv\"\n",
    "\n",
    "# There are max 17 columns in the output csv\n",
    "max_cols = [\"Start\",\"Duration\",\"Grid X\",\"Grid Y\",\"Grid Z\",\"Block X\",\"Block Y\",\"Block Z\",\"Registers Per Thread\",\"Static SMem\",\"Dynamic SMem\",\"Size\",\"Throughput\",\"Device\",\"Context\",\"Stream\",\"Name\"]\n",
    "\n",
    "df_trace = pd.read_csv(trace_file, names=max_cols, engine='python')\n",
    "\n",
    "rows_to_skip = 0\n",
    "## find out the number of rows to skip\n",
    "for index, row in df_trace.iterrows():\n",
    "    if row['Start'] == 'Start':\n",
    "        rows_to_skip = index\n",
    "        break\n",
    "        \n",
    "# read the input csv again \n",
    "df_trace = pd.read_csv(trace_file, skiprows=rows_to_skip)\n"
   ]
  },
  {
   "cell_type": "code",
   "execution_count": 96,
   "metadata": {
    "collapsed": false,
    "scrolled": true
   },
   "outputs": [
    {
     "data": {
      "text/html": [
       "<div>\n",
       "<table border=\"1\" class=\"dataframe\">\n",
       "  <thead>\n",
       "    <tr style=\"text-align: right;\">\n",
       "      <th></th>\n",
       "      <th>Start</th>\n",
       "      <th>Duration</th>\n",
       "      <th>Grid X</th>\n",
       "      <th>Grid Y</th>\n",
       "      <th>Grid Z</th>\n",
       "      <th>Block X</th>\n",
       "      <th>Block Y</th>\n",
       "      <th>Block Z</th>\n",
       "      <th>Registers Per Thread</th>\n",
       "      <th>Static SMem</th>\n",
       "      <th>Dynamic SMem</th>\n",
       "      <th>Size</th>\n",
       "      <th>Throughput</th>\n",
       "      <th>Device</th>\n",
       "      <th>Context</th>\n",
       "      <th>Stream</th>\n",
       "      <th>Name</th>\n",
       "    </tr>\n",
       "  </thead>\n",
       "  <tbody>\n",
       "    <tr>\n",
       "      <th>0</th>\n",
       "      <td>ms</td>\n",
       "      <td>ms</td>\n",
       "      <td>NaN</td>\n",
       "      <td>NaN</td>\n",
       "      <td>NaN</td>\n",
       "      <td>NaN</td>\n",
       "      <td>NaN</td>\n",
       "      <td>NaN</td>\n",
       "      <td>NaN</td>\n",
       "      <td>B</td>\n",
       "      <td>B</td>\n",
       "      <td>MB</td>\n",
       "      <td>GB/s</td>\n",
       "      <td>NaN</td>\n",
       "      <td>NaN</td>\n",
       "      <td>NaN</td>\n",
       "      <td>NaN</td>\n",
       "    </tr>\n",
       "    <tr>\n",
       "      <th>1</th>\n",
       "      <td>218.148062</td>\n",
       "      <td>0.668229</td>\n",
       "      <td>NaN</td>\n",
       "      <td>NaN</td>\n",
       "      <td>NaN</td>\n",
       "      <td>NaN</td>\n",
       "      <td>NaN</td>\n",
       "      <td>NaN</td>\n",
       "      <td>NaN</td>\n",
       "      <td>NaN</td>\n",
       "      <td>NaN</td>\n",
       "      <td>4.000000</td>\n",
       "      <td>5.845676</td>\n",
       "      <td>GeForce GTX 950 (0)</td>\n",
       "      <td>1.0</td>\n",
       "      <td>13.0</td>\n",
       "      <td>[CUDA memcpy HtoD]</td>\n",
       "    </tr>\n",
       "    <tr>\n",
       "      <th>2</th>\n",
       "      <td>218.817507</td>\n",
       "      <td>0.669669</td>\n",
       "      <td>NaN</td>\n",
       "      <td>NaN</td>\n",
       "      <td>NaN</td>\n",
       "      <td>NaN</td>\n",
       "      <td>NaN</td>\n",
       "      <td>NaN</td>\n",
       "      <td>NaN</td>\n",
       "      <td>NaN</td>\n",
       "      <td>NaN</td>\n",
       "      <td>4.000000</td>\n",
       "      <td>5.833106</td>\n",
       "      <td>GeForce GTX 950 (0)</td>\n",
       "      <td>1.0</td>\n",
       "      <td>13.0</td>\n",
       "      <td>[CUDA memcpy HtoD]</td>\n",
       "    </tr>\n",
       "    <tr>\n",
       "      <th>3</th>\n",
       "      <td>219.488392</td>\n",
       "      <td>0.662886</td>\n",
       "      <td>NaN</td>\n",
       "      <td>NaN</td>\n",
       "      <td>NaN</td>\n",
       "      <td>NaN</td>\n",
       "      <td>NaN</td>\n",
       "      <td>NaN</td>\n",
       "      <td>NaN</td>\n",
       "      <td>NaN</td>\n",
       "      <td>NaN</td>\n",
       "      <td>4.000000</td>\n",
       "      <td>5.892793</td>\n",
       "      <td>GeForce GTX 950 (0)</td>\n",
       "      <td>1.0</td>\n",
       "      <td>17.0</td>\n",
       "      <td>[CUDA memcpy HtoD]</td>\n",
       "    </tr>\n",
       "    <tr>\n",
       "      <th>4</th>\n",
       "      <td>220.152462</td>\n",
       "      <td>1.719213</td>\n",
       "      <td>NaN</td>\n",
       "      <td>NaN</td>\n",
       "      <td>NaN</td>\n",
       "      <td>NaN</td>\n",
       "      <td>NaN</td>\n",
       "      <td>NaN</td>\n",
       "      <td>NaN</td>\n",
       "      <td>NaN</td>\n",
       "      <td>NaN</td>\n",
       "      <td>4.000000</td>\n",
       "      <td>2.272115</td>\n",
       "      <td>GeForce GTX 950 (0)</td>\n",
       "      <td>1.0</td>\n",
       "      <td>17.0</td>\n",
       "      <td>[CUDA memcpy HtoD]</td>\n",
       "    </tr>\n",
       "    <tr>\n",
       "      <th>5</th>\n",
       "      <td>220.256110</td>\n",
       "      <td>0.666438</td>\n",
       "      <td>NaN</td>\n",
       "      <td>NaN</td>\n",
       "      <td>NaN</td>\n",
       "      <td>NaN</td>\n",
       "      <td>NaN</td>\n",
       "      <td>NaN</td>\n",
       "      <td>NaN</td>\n",
       "      <td>NaN</td>\n",
       "      <td>NaN</td>\n",
       "      <td>4.000000</td>\n",
       "      <td>5.861385</td>\n",
       "      <td>GeForce GTX 950 (0)</td>\n",
       "      <td>1.0</td>\n",
       "      <td>16.0</td>\n",
       "      <td>[CUDA memcpy HtoD]</td>\n",
       "    </tr>\n",
       "    <tr>\n",
       "      <th>6</th>\n",
       "      <td>220.923764</td>\n",
       "      <td>3.342458</td>\n",
       "      <td>NaN</td>\n",
       "      <td>NaN</td>\n",
       "      <td>NaN</td>\n",
       "      <td>NaN</td>\n",
       "      <td>NaN</td>\n",
       "      <td>NaN</td>\n",
       "      <td>NaN</td>\n",
       "      <td>NaN</td>\n",
       "      <td>NaN</td>\n",
       "      <td>4.000000</td>\n",
       "      <td>1.168676</td>\n",
       "      <td>GeForce GTX 950 (0)</td>\n",
       "      <td>1.0</td>\n",
       "      <td>16.0</td>\n",
       "      <td>[CUDA memcpy HtoD]</td>\n",
       "    </tr>\n",
       "    <tr>\n",
       "      <th>7</th>\n",
       "      <td>221.872923</td>\n",
       "      <td>0.669189</td>\n",
       "      <td>NaN</td>\n",
       "      <td>NaN</td>\n",
       "      <td>NaN</td>\n",
       "      <td>NaN</td>\n",
       "      <td>NaN</td>\n",
       "      <td>NaN</td>\n",
       "      <td>NaN</td>\n",
       "      <td>NaN</td>\n",
       "      <td>NaN</td>\n",
       "      <td>4.000000</td>\n",
       "      <td>5.837290</td>\n",
       "      <td>GeForce GTX 950 (0)</td>\n",
       "      <td>1.0</td>\n",
       "      <td>14.0</td>\n",
       "      <td>[CUDA memcpy HtoD]</td>\n",
       "    </tr>\n",
       "    <tr>\n",
       "      <th>8</th>\n",
       "      <td>222.543296</td>\n",
       "      <td>2.010256</td>\n",
       "      <td>NaN</td>\n",
       "      <td>NaN</td>\n",
       "      <td>NaN</td>\n",
       "      <td>NaN</td>\n",
       "      <td>NaN</td>\n",
       "      <td>NaN</td>\n",
       "      <td>NaN</td>\n",
       "      <td>NaN</td>\n",
       "      <td>NaN</td>\n",
       "      <td>4.000000</td>\n",
       "      <td>1.943160</td>\n",
       "      <td>GeForce GTX 950 (0)</td>\n",
       "      <td>1.0</td>\n",
       "      <td>14.0</td>\n",
       "      <td>[CUDA memcpy HtoD]</td>\n",
       "    </tr>\n",
       "    <tr>\n",
       "      <th>9</th>\n",
       "      <td>222.927715</td>\n",
       "      <td>0.669701</td>\n",
       "      <td>NaN</td>\n",
       "      <td>NaN</td>\n",
       "      <td>NaN</td>\n",
       "      <td>NaN</td>\n",
       "      <td>NaN</td>\n",
       "      <td>NaN</td>\n",
       "      <td>NaN</td>\n",
       "      <td>NaN</td>\n",
       "      <td>NaN</td>\n",
       "      <td>4.000000</td>\n",
       "      <td>5.832827</td>\n",
       "      <td>GeForce GTX 950 (0)</td>\n",
       "      <td>1.0</td>\n",
       "      <td>15.0</td>\n",
       "      <td>[CUDA memcpy HtoD]</td>\n",
       "    </tr>\n",
       "    <tr>\n",
       "      <th>10</th>\n",
       "      <td>223.598632</td>\n",
       "      <td>2.014384</td>\n",
       "      <td>NaN</td>\n",
       "      <td>NaN</td>\n",
       "      <td>NaN</td>\n",
       "      <td>NaN</td>\n",
       "      <td>NaN</td>\n",
       "      <td>NaN</td>\n",
       "      <td>NaN</td>\n",
       "      <td>NaN</td>\n",
       "      <td>NaN</td>\n",
       "      <td>4.000000</td>\n",
       "      <td>1.939178</td>\n",
       "      <td>GeForce GTX 950 (0)</td>\n",
       "      <td>1.0</td>\n",
       "      <td>15.0</td>\n",
       "      <td>[CUDA memcpy HtoD]</td>\n",
       "    </tr>\n",
       "    <tr>\n",
       "      <th>11</th>\n",
       "      <td>224.554768</td>\n",
       "      <td>0.661925</td>\n",
       "      <td>NaN</td>\n",
       "      <td>NaN</td>\n",
       "      <td>NaN</td>\n",
       "      <td>NaN</td>\n",
       "      <td>NaN</td>\n",
       "      <td>NaN</td>\n",
       "      <td>NaN</td>\n",
       "      <td>NaN</td>\n",
       "      <td>NaN</td>\n",
       "      <td>4.000000</td>\n",
       "      <td>5.901348</td>\n",
       "      <td>GeForce GTX 950 (0)</td>\n",
       "      <td>1.0</td>\n",
       "      <td>18.0</td>\n",
       "      <td>[CUDA memcpy HtoD]</td>\n",
       "    </tr>\n",
       "    <tr>\n",
       "      <th>12</th>\n",
       "      <td>225.217877</td>\n",
       "      <td>0.951272</td>\n",
       "      <td>NaN</td>\n",
       "      <td>NaN</td>\n",
       "      <td>NaN</td>\n",
       "      <td>NaN</td>\n",
       "      <td>NaN</td>\n",
       "      <td>NaN</td>\n",
       "      <td>NaN</td>\n",
       "      <td>NaN</td>\n",
       "      <td>NaN</td>\n",
       "      <td>4.000000</td>\n",
       "      <td>4.106344</td>\n",
       "      <td>GeForce GTX 950 (0)</td>\n",
       "      <td>1.0</td>\n",
       "      <td>18.0</td>\n",
       "      <td>[CUDA memcpy HtoD]</td>\n",
       "    </tr>\n",
       "  </tbody>\n",
       "</table>\n",
       "</div>"
      ],
      "text/plain": [
       "         Start  Duration  Grid X  Grid Y  Grid Z  Block X  Block Y  Block Z  \\\n",
       "0           ms        ms     NaN     NaN     NaN      NaN      NaN      NaN   \n",
       "1   218.148062  0.668229     NaN     NaN     NaN      NaN      NaN      NaN   \n",
       "2   218.817507  0.669669     NaN     NaN     NaN      NaN      NaN      NaN   \n",
       "3   219.488392  0.662886     NaN     NaN     NaN      NaN      NaN      NaN   \n",
       "4   220.152462  1.719213     NaN     NaN     NaN      NaN      NaN      NaN   \n",
       "5   220.256110  0.666438     NaN     NaN     NaN      NaN      NaN      NaN   \n",
       "6   220.923764  3.342458     NaN     NaN     NaN      NaN      NaN      NaN   \n",
       "7   221.872923  0.669189     NaN     NaN     NaN      NaN      NaN      NaN   \n",
       "8   222.543296  2.010256     NaN     NaN     NaN      NaN      NaN      NaN   \n",
       "9   222.927715  0.669701     NaN     NaN     NaN      NaN      NaN      NaN   \n",
       "10  223.598632  2.014384     NaN     NaN     NaN      NaN      NaN      NaN   \n",
       "11  224.554768  0.661925     NaN     NaN     NaN      NaN      NaN      NaN   \n",
       "12  225.217877  0.951272     NaN     NaN     NaN      NaN      NaN      NaN   \n",
       "\n",
       "    Registers Per Thread Static SMem Dynamic SMem      Size Throughput  \\\n",
       "0                    NaN           B            B        MB       GB/s   \n",
       "1                    NaN         NaN          NaN  4.000000   5.845676   \n",
       "2                    NaN         NaN          NaN  4.000000   5.833106   \n",
       "3                    NaN         NaN          NaN  4.000000   5.892793   \n",
       "4                    NaN         NaN          NaN  4.000000   2.272115   \n",
       "5                    NaN         NaN          NaN  4.000000   5.861385   \n",
       "6                    NaN         NaN          NaN  4.000000   1.168676   \n",
       "7                    NaN         NaN          NaN  4.000000   5.837290   \n",
       "8                    NaN         NaN          NaN  4.000000   1.943160   \n",
       "9                    NaN         NaN          NaN  4.000000   5.832827   \n",
       "10                   NaN         NaN          NaN  4.000000   1.939178   \n",
       "11                   NaN         NaN          NaN  4.000000   5.901348   \n",
       "12                   NaN         NaN          NaN  4.000000   4.106344   \n",
       "\n",
       "                 Device  Context  Stream                Name  \n",
       "0                   NaN      NaN     NaN                 NaN  \n",
       "1   GeForce GTX 950 (0)      1.0    13.0  [CUDA memcpy HtoD]  \n",
       "2   GeForce GTX 950 (0)      1.0    13.0  [CUDA memcpy HtoD]  \n",
       "3   GeForce GTX 950 (0)      1.0    17.0  [CUDA memcpy HtoD]  \n",
       "4   GeForce GTX 950 (0)      1.0    17.0  [CUDA memcpy HtoD]  \n",
       "5   GeForce GTX 950 (0)      1.0    16.0  [CUDA memcpy HtoD]  \n",
       "6   GeForce GTX 950 (0)      1.0    16.0  [CUDA memcpy HtoD]  \n",
       "7   GeForce GTX 950 (0)      1.0    14.0  [CUDA memcpy HtoD]  \n",
       "8   GeForce GTX 950 (0)      1.0    14.0  [CUDA memcpy HtoD]  \n",
       "9   GeForce GTX 950 (0)      1.0    15.0  [CUDA memcpy HtoD]  \n",
       "10  GeForce GTX 950 (0)      1.0    15.0  [CUDA memcpy HtoD]  \n",
       "11  GeForce GTX 950 (0)      1.0    18.0  [CUDA memcpy HtoD]  \n",
       "12  GeForce GTX 950 (0)      1.0    18.0  [CUDA memcpy HtoD]  "
      ]
     },
     "execution_count": 96,
     "metadata": {},
     "output_type": "execute_result"
    }
   ],
   "source": [
    "df_trace"
   ]
  },
  {
   "cell_type": "code",
   "execution_count": 91,
   "metadata": {
    "collapsed": false
   },
   "outputs": [
    {
     "data": {
      "text/plain": [
       "pandas.core.frame.DataFrame"
      ]
     },
     "execution_count": 91,
     "metadata": {},
     "output_type": "execute_result"
    }
   ],
   "source": [
    "type(df_trace)"
   ]
  },
  {
   "cell_type": "code",
   "execution_count": 97,
   "metadata": {
    "collapsed": false
   },
   "outputs": [
    {
     "name": "stdout",
     "output_type": "stream",
     "text": [
      "runtime : 8.021087 ms\n"
     ]
    }
   ],
   "source": [
    "rows, cols = df_trace.shape\n",
    "# print rows\n",
    "# print cols\n",
    "\n",
    "start_unit = df_trace['Start'].iloc[0]\n",
    "# print start_unit\n",
    "\n",
    "duration_unit = df_trace['Duration'].iloc[0]\n",
    "# print duration_unit\n",
    "\n",
    "\n",
    "start_coef =  1.0\n",
    "\n",
    "if start_unit == 's':\n",
    "    start_coef = 1e3\n",
    "    \n",
    "if start_unit == 'us':\n",
    "    start_coef = 1e-3\n",
    "    \n",
    "# print start_coef\n",
    "\n",
    "\n",
    "duration_coef =  1.0\n",
    "\n",
    "if duration_unit == 's':\n",
    "    duration_coef = 1e3\n",
    "    \n",
    "if duration_unit == 'us':\n",
    "    duration_coef = 1e-3\n",
    "    \n",
    "# print duration_coef\n",
    "\n",
    "# read the row 1 for the starting time\n",
    "start_time = df_trace['Start'].iloc[1]\n",
    "# print type(start_time)\n",
    "start_time = float(start_time) * start_coef\n",
    "# print start_time\n",
    "\n",
    "\n",
    "# read the last row  for the starting time\n",
    "end_time = df_trace['Start'].iloc[rows-1]\n",
    "end_dur_time = df_trace['Duration'].iloc[rows-1]\n",
    "# print type(end_time)\n",
    "# print type(end_dur_time)\n",
    "# print end_time\n",
    "# print end_dur_time\n",
    "end_time = float(end_time) * start_coef\n",
    "end_dur_time = float(end_dur_time) * duration_coef\n",
    "\n",
    "end_time = end_time + end_dur_time\n",
    "\n",
    "# print end_time\n",
    "\n",
    "#---------------------------------\n",
    "# total runtime\n",
    "#---------------------------------\n",
    "runtime = end_time - start_time\n",
    "print \"runtime : \" + str(runtime) + \" ms\""
   ]
  },
  {
   "cell_type": "markdown",
   "metadata": {},
   "source": [
    "### stream starting time"
   ]
  },
  {
   "cell_type": "code",
   "execution_count": 99,
   "metadata": {
    "collapsed": false
   },
   "outputs": [
    {
     "name": "stdout",
     "output_type": "stream",
     "text": [
      "[13.0, 17.0, 16.0, 14.0, 15.0, 18.0]\n",
      "218.148062\n",
      "13.0\n",
      "218.817507\n",
      "13.0\n",
      "219.488392\n",
      "17.0\n",
      "220.152462\n",
      "17.0\n",
      "220.256110\n",
      "16.0\n",
      "220.923764\n",
      "16.0\n",
      "221.872923\n",
      "14.0\n",
      "222.543296\n",
      "14.0\n",
      "222.927715\n",
      "15.0\n",
      "223.598632\n",
      "15.0\n",
      "224.554768\n",
      "18.0\n",
      "225.217877\n",
      "18.0\n",
      "{'15.0': 222.927715, '14.0': 221.872923, '17.0': 219.488392, '16.0': 220.25611, '18.0': 224.554768, '13.0': 218.148062}\n"
     ]
    }
   ],
   "source": [
    "# remove the 1st row\n",
    "df = df_trace.drop(df_trace.index[[0]])\n",
    "#df\n",
    "\n",
    "streams_ls = list(df_trace['Stream'].unique())\n",
    "# remove nan\n",
    "streams_ls = [x for x in streams_ls if str(x) != 'nan']\n",
    "print streams_ls\n",
    "\n",
    "# init the dict with large values\n",
    "streams_start = dict()\n",
    "for x in streams_ls:\n",
    "    streams_start[str(x)] = 999999999999999.0\n",
    "\n",
    "for index, row in df.iterrows():\n",
    "    print row['Start']\n",
    "    print row['Stream']\n",
    "    start_ms = start_coef * float(row['Start'])\n",
    "    sid = row['Stream']\n",
    "    \n",
    "    if streams_start[str(sid)] > start_ms:\n",
    "        streams_start[str(sid)] = start_ms\n",
    "    \n",
    "# streams_start time in ms\n",
    "print streams_start"
   ]
  },
  {
   "cell_type": "code",
   "execution_count": 100,
   "metadata": {
    "collapsed": false
   },
   "outputs": [
    {
     "name": "stdout",
     "output_type": "stream",
     "text": [
      "[('13.0', 218.148062), ('17.0', 219.488392), ('16.0', 220.25611), ('14.0', 221.872923), ('15.0', 222.927715), ('18.0', 224.554768)]\n"
     ]
    }
   ],
   "source": [
    "# sort the dict in asc order\n",
    "sorted_streams_start = sorted(streams_start.items(), key=operator.itemgetter(1))\n",
    "\n",
    "print sorted_streams_start"
   ]
  },
  {
   "cell_type": "code",
   "execution_count": null,
   "metadata": {
    "collapsed": false
   },
   "outputs": [],
   "source": [
    "print type(sorted_streams_start)"
   ]
  },
  {
   "cell_type": "code",
   "execution_count": 101,
   "metadata": {
    "collapsed": false
   },
   "outputs": [
    {
     "name": "stdout",
     "output_type": "stream",
     "text": [
      "OrderedDict([('13.0', 218.148062), ('17.0', 219.488392), ('16.0', 220.25611), ('14.0', 221.872923), ('15.0', 222.927715), ('18.0', 224.554768)])\n",
      "<class 'collections.OrderedDict'>\n"
     ]
    }
   ],
   "source": [
    "from collections import OrderedDict\n",
    "od = OrderedDict(sorted_streams_start)\n",
    "print od\n",
    "print type(od)"
   ]
  },
  {
   "cell_type": "code",
   "execution_count": 107,
   "metadata": {
    "collapsed": false
   },
   "outputs": [
    {
     "name": "stdout",
     "output_type": "stream",
     "text": [
      "13.0\n",
      "218.148062\n",
      "18.0\n",
      "224.554768\n"
     ]
    }
   ],
   "source": [
    "# min_key = min(od.iteritems(), key=operator.itemgetter(1))[0]\n",
    "# print min_key\n",
    "# print od[min_key]\n",
    "\n",
    "# max_key = max(od.iteritems(), key=operator.itemgetter(1))[0]\n",
    "# print max_key\n",
    "# print od[max_key]"
   ]
  },
  {
   "cell_type": "code",
   "execution_count": 110,
   "metadata": {
    "collapsed": false
   },
   "outputs": [
    {
     "name": "stdout",
     "output_type": "stream",
     "text": [
      "13.0 0 (ms)\n",
      "17.0 1.34033 (ms)\n",
      "16.0 0.767718 (ms)\n",
      "14.0 1.616813 (ms)\n",
      "15.0 1.054792 (ms)\n",
      "18.0 1.627053 (ms)\n"
     ]
    }
   ],
   "source": [
    "prev_stream = -1\n",
    "curr_stream = -1\n",
    "\n",
    "prev_start_ms = -1\n",
    "curr_start_ms = -1\n",
    "\n",
    "streams_lnch_ovhd = []\n",
    "\n",
    "for key, value in od.iteritems():\n",
    "    if prev_stream == -1:\n",
    "        prev_stream = key\n",
    "        prev_start_ms = value\n",
    "        print str(prev_stream) + ' 0 (ms)'\n",
    "        \n",
    "    curr_stream = key\n",
    "    curr_start_ms = value\n",
    "    \n",
    "    if curr_stream != prev_stream:\n",
    "        ovhd = curr_start_ms - prev_start_ms\n",
    "        print str(curr_stream) + ' ' + str(ovhd) + ' (ms)'\n",
    "        \n",
    "        streams_lnch_ovhd.append(ovhd)\n",
    "        \n",
    "        #update prev\n",
    "        prev_stream = curr_stream\n",
    "        prev_start_ms = curr_start_ms\n",
    "        "
   ]
  },
  {
   "cell_type": "code",
   "execution_count": 115,
   "metadata": {
    "collapsed": false
   },
   "outputs": [
    {
     "name": "stdout",
     "output_type": "stream",
     "text": [
      "[1.3403299999999945, 0.7677180000000021, 1.6168129999999792, 1.0547920000000204, 1.6270529999999894]\n",
      "0.767718\n",
      "1.627053\n",
      "1.2813412\n"
     ]
    }
   ],
   "source": [
    "print streams_lnch_ovhd\n",
    "print min(streams_lnch_ovhd)\n",
    "print max(streams_lnch_ovhd)\n",
    "print sum(streams_lnch_ovhd) / float(len(streams_lnch_ovhd))"
   ]
  },
  {
   "cell_type": "code",
   "execution_count": null,
   "metadata": {
    "collapsed": false
   },
   "outputs": [],
   "source": [
    "df_trace"
   ]
  },
  {
   "cell_type": "code",
   "execution_count": null,
   "metadata": {
    "collapsed": false
   },
   "outputs": [],
   "source": [
    "streams = list(df_trace['Stream'].unique())\n",
    "\n",
    "# remove nan\n",
    "streams = [x for x in streams if str(x) != 'nan']\n",
    "print streams"
   ]
  },
  {
   "cell_type": "code",
   "execution_count": null,
   "metadata": {
    "collapsed": false
   },
   "outputs": [],
   "source": [
    "# # go through each stream, find when the streams start\n",
    "# for sid in streams:"
   ]
  }
 ],
 "metadata": {
  "anaconda-cloud": {},
  "kernelspec": {
   "display_name": "Python [default]",
   "language": "python",
   "name": "python2"
  },
  "language_info": {
   "codemirror_mode": {
    "name": "ipython",
    "version": 2
   },
   "file_extension": ".py",
   "mimetype": "text/x-python",
   "name": "python",
   "nbconvert_exporter": "python",
   "pygments_lexer": "ipython2",
   "version": "2.7.12"
  }
 },
 "nbformat": 4,
 "nbformat_minor": 1
}
